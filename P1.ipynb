{
 "cells": [
  {
   "cell_type": "markdown",
   "metadata": {
    "deletable": true,
    "editable": true
   },
   "source": [
    "# **Finding Lane Lines on the Road** \n",
    "***\n",
    "In this project, you will use the tools you learned about in the lesson to identify lane lines on the road.  You can develop your pipeline on a series of individual images, and later apply the result to a video stream (really just a series of images). Check out the video clip \"raw-lines-example.mp4\" (also contained in this repository) to see what the output should look like after using the helper functions below. \n",
    "\n",
    "Once you have a result that looks roughly like \"raw-lines-example.mp4\", you'll need to get creative and try to average and/or extrapolate the line segments you've detected to map out the full extent of the lane lines.  You can see an example of the result you're going for in the video \"P1_example.mp4\".  Ultimately, you would like to draw just one line for the left side of the lane, and one for the right.\n",
    "\n",
    "---\n",
    "Let's have a look at our first image called 'test_images/solidWhiteRight.jpg'.  Run the 2 cells below (hit Shift-Enter or the \"play\" button above) to display the image.\n",
    "\n",
    "**Note** If, at any point, you encounter frozen display windows or other confounding issues, you can always start again with a clean slate by going to the \"Kernel\" menu above and selecting \"Restart & Clear Output\".\n",
    "\n",
    "---"
   ]
  },
  {
   "cell_type": "markdown",
   "metadata": {
    "deletable": true,
    "editable": true
   },
   "source": [
    "**The tools you have are color selection, region of interest selection, grayscaling, Gaussian smoothing, Canny Edge Detection and Hough Tranform line detection.  You  are also free to explore and try other techniques that were not presented in the lesson.  Your goal is piece together a pipeline to detect the line segments in the image, then average/extrapolate them and draw them onto the image for display (as below).  Once you have a working pipeline, try it out on the video stream below.**\n",
    "\n",
    "---\n",
    "\n",
    "<figure>\n",
    " <img src=\"line-segments-example.jpg\" width=\"380\" alt=\"Combined Image\" />\n",
    " <figcaption>\n",
    " <p></p> \n",
    " <p style=\"text-align: center;\"> Your output should look something like this (above) after detecting line segments using the helper functions below </p> \n",
    " </figcaption>\n",
    "</figure>\n",
    " <p></p> \n",
    "<figure>\n",
    " <img src=\"laneLines_thirdPass.jpg\" width=\"380\" alt=\"Combined Image\" />\n",
    " <figcaption>\n",
    " <p></p> \n",
    " <p style=\"text-align: center;\"> Your goal is to connect/average/extrapolate line segments to get output like this</p> \n",
    " </figcaption>\n",
    "</figure>"
   ]
  },
  {
   "cell_type": "code",
   "execution_count": 14,
   "metadata": {
    "collapsed": false,
    "deletable": true,
    "editable": true
   },
   "outputs": [],
   "source": [
    "\"\"\" Detecting line segments on single pictures and videos which have been made by a camera in a car. \n",
    "    Programm: Udacity - Self Driving Car Engineer\n",
    "    Project: P1 Finding Lane Lines on the Road\n",
    "    Author: Daniel Gattringer (gada1982) \"\"\"\n",
    "\n",
    "#importing some useful packages\n",
    "import matplotlib.pyplot as plt\n",
    "import matplotlib.image as mpimg\n",
    "import math\n",
    "import string\n",
    "import os\n",
    "import numpy as np\n",
    "import cv2\n",
    "%matplotlib inline\n",
    "\n",
    "\"\"\" Do some configuration for the programm \"\"\"\n",
    "# Print some debug infos when 1, don't do it when 0\n",
    "# 0 is the default setting for the final solution\n",
    "printInfos = 0\n",
    "\n",
    "# Print raw lines if 1, print extrapolated lines if 0\n",
    "# 0 is the default setting for the final solution\n",
    "print_raw = 0\n",
    "\n",
    "# Should the single pictures in the defined folder be modified? \n",
    "# Set to 1 if yes, set to 0 if not\n",
    "# 1 is the default setting for the final solution\n",
    "modify_pictures_in_folder = 1\n",
    "\"\"\" End of configuration area \"\"\"\n",
    "\n",
    "\"\"\" Global variables used to smooth the extrapolated line segments in the videos. \n",
    "    The mean value is formed from two frames. \n",
    "    Shortcomings: Direct passing for global variables is bad style\n",
    "                    Don't start with fixed values for x and y. \"\"\"\n",
    "avg_r_slope_old = 0.65\n",
    "avg_r_x_old = 660\n",
    "avg_r_y_old = 420\n",
    "avg_l_slope_old = -0.65\n",
    "avg_l_x_old = 330\n",
    "avg_l_y_old = 380\n",
    "\n",
    "def grayscale(img):\n",
    "    \"\"\"Applies the Grayscale transform and a first filter\n",
    "    This will return an image with only one color channel\n",
    "    but NOTE: to see the returned image as grayscale\n",
    "    you should call plt.imshow(gray, cmap='gray')\"\"\"\n",
    "    \n",
    "    gray_img = cv2.cvtColor(img, cv2.COLOR_RGB2GRAY)\n",
    "    # Apply a first filter\n",
    "    gray_img_opt = cv2.inRange(gray_img, 196, 255)\n",
    "    return gray_img_opt\n",
    "    # Or use BGR2GRAY if you read an image with cv2.imread()\n",
    "    # return cv2.cvtColor(img, cv2.COLOR_BGR2GRAY)\n",
    "    \n",
    "def canny(img, low_threshold, high_threshold):\n",
    "    \"\"\"Applies the Canny transform\"\"\"\n",
    "    return cv2.Canny(img, low_threshold, high_threshold)\n",
    "\n",
    "def gaussian_blur(img, kernel_size):\n",
    "    \"\"\"Applies a Gaussian Noise kernel\"\"\"\n",
    "    return cv2.GaussianBlur(img, (kernel_size, kernel_size), 0)\n",
    "\n",
    "def region_of_interest(img, vertices):\n",
    "    \"\"\"\n",
    "    Applies an image mask.\n",
    "    \n",
    "    Only keeps the region of the image defined by the polygon\n",
    "    formed from `vertices`. The rest of the image is set to black.\n",
    "    \"\"\"\n",
    "    #defining a blank mask to start with\n",
    "    mask = np.zeros_like(img)   \n",
    "    \n",
    "    #defining a 3 channel or 1 channel color to fill the mask with depending on the input image\n",
    "    if len(img.shape) > 2:\n",
    "        channel_count = img.shape[2]  # i.e. 3 or 4 depending on your image\n",
    "        ignore_mask_color = (255,) * channel_count\n",
    "    else:\n",
    "        ignore_mask_color = 255\n",
    "        \n",
    "    #filling pixels inside the polygon defined by \"vertices\" with the fill color    \n",
    "    cv2.fillPoly(mask, vertices, ignore_mask_color)\n",
    "    \n",
    "    #returning the image only where mask pixels are nonzero\n",
    "    masked_image = cv2.bitwise_and(img, mask)\n",
    "    return masked_image\n",
    "\n",
    "def draw_lines(img, lines, color=[255, 0, 0], thickness=10):\n",
    "    \"\"\"\n",
    "    Draws extrapolated lines on a single frame.\n",
    "    One for left and on for right lane line.\n",
    "    \"\"\"\n",
    "    # use the global variable for flattening between frames\n",
    "    # Shortcomings: Direct passing for global variables is bad style\n",
    "    global avg_r_slope_old\n",
    "    global avg_r_x_old\n",
    "    global avg_r_y_old\n",
    "    global avg_l_slope_old\n",
    "    global avg_l_x_old\n",
    "    global avg_l_y_old \n",
    "    \n",
    "    #Define different arrays and initialize y_min and y_max\n",
    "    right_slope = []\n",
    "    right_x = []\n",
    "    right_y = []\n",
    "    left_slope = []\n",
    "    left_x = []\n",
    "    left_y = []\n",
    "    y_min = int(img.shape[0] / 1.69)\n",
    "    y_max = img.shape[0]\n",
    "    \n",
    "    #Calculate slope and assign them to left/right side\n",
    "    for line in lines:\n",
    "        for x1,y1,x2,y2 in line:\n",
    "            #identify global minimum y\n",
    "            if y1<y_min:\n",
    "                y_min = y1\n",
    "            #Calculate slope and assign it likewise\n",
    "            slope = (y2-y1)/(x2-x1)\n",
    "            if 0.8 > slope > 0.4: # Right lane, negative slope --> Limits to sort out horizontal lines\n",
    "                right_slope.append(slope)\n",
    "                right_x.append(x1)\n",
    "                right_x.append(x2)\n",
    "                right_y.append(y1)\n",
    "                right_y.append(y2)\n",
    "            elif -0.8 < slope < -0.4: # Left lane, positive slope --> Limits to sort out horizontal lines\n",
    "                left_slope.append(slope)\n",
    "                left_x.append(x1)\n",
    "                left_x.append(x2)\n",
    "                left_y.append(y1)\n",
    "                left_y.append(y2)\n",
    "\n",
    "    # Calculate the average position of line segments on the right side\n",
    "    if float(len(right_slope)) != 0:\n",
    "        avg_right_slope = sum(right_slope)/float(len(right_slope))\n",
    "        avg_r_slope_old = (avg_r_slope_old + avg_right_slope) / 2\n",
    "        # Only for debugging\n",
    "        #print(\"R_slope: \" + str(avg_right_slope))\n",
    "    else:\n",
    "        avg_right_slope = avg_r_slope_old\n",
    "    if float(len(right_x)) != 0:\n",
    "        avg_right_x = sum(right_x)/float(len(right_x))\n",
    "        avg_r_x_old = (avg_r_x_old + avg_right_x) / 2\n",
    "        # Only for debugging\n",
    "        #print(\"R_X: \" + str(avg_right_x))\n",
    "    else:\n",
    "        avg_right_x = avg_r_x_old\n",
    "    if float(len(right_y)) != 0:\n",
    "        avg_right_y = sum(right_y)/float(len(right_y))\n",
    "        avg_r_y_old = (avg_r_y_old + avg_right_y) / 2\n",
    "        # Only for debugging\n",
    "        #print(\"R_Y: \" + str(avg_right_y))\n",
    "    else:\n",
    "        avg_right_y = avg_r_y_old\n",
    "    # Calculate intercept for averaged right lines\n",
    "    right_intercept = avg_right_y-(avg_right_slope*avg_right_x)\n",
    "    # Find x1,x2 for the highest point on the right line\n",
    "    x1_right = (y_min-right_intercept)/avg_right_slope\n",
    "    x2_right = (y_max-right_intercept)/avg_right_slope\n",
    "    # Draw final right line\n",
    "    cv2.line(img, (int(x1_right), y_min), (int(x2_right), y_max), color, thickness)\n",
    "    \n",
    "    # Calculate the average position of line segments on the left side\n",
    "    if float(len(left_slope)) != 0:\n",
    "        avg_left_slope= sum(left_slope)/float(len(left_slope))\n",
    "        avg_l_slope_old = (avg_l_slope_old + avg_left_slope) / 2\n",
    "        # Only for debugging\n",
    "        #print(\"L_slope: \" + str(avg_left_slope))\n",
    "    else:\n",
    "        avg_left_slope = avg_l_slope_old\n",
    "    if float(len(left_x)) != 0:\n",
    "        avg_left_x = sum(left_x)/float(len(left_x))\n",
    "        avg_l_x_old = (avg_l_x_old + avg_left_x) / 2\n",
    "        # Only for debugging\n",
    "        #print(\"L_X: \" + str(avg_left_x))\n",
    "    else:\n",
    "        avg_left_x = avg_l_x_old\n",
    "    if float(len(left_y)) != 0:\n",
    "        avg_left_y = sum(left_y)/float(len(left_y))\n",
    "        avg_l_y_old = (avg_l_y_old + avg_left_y) / 2\n",
    "        # Only for debugging\n",
    "        #print(\"L_y: \" + str(avg_left_y))\n",
    "    else:\n",
    "        avg_left_y = avg_l_y_old\n",
    "    \n",
    "    # Calculate intercept for averaged left lines\n",
    "    left_intercept = avg_left_y-(avg_left_slope*avg_left_x)\n",
    "    # Find x1,x2 for the highest point on the left line\n",
    "    x1_left = (y_min-left_intercept)/avg_left_slope\n",
    "    x2_left = (y_max-left_intercept)/avg_left_slope\n",
    "    # Draw final left line\n",
    "    cv2.line(img, (int(x1_left), y_min), (int(x2_left), y_max), color, thickness)\n",
    "    \n",
    "def draw_lines_raw(img, lines, color=[0, 255, 0], thickness=2):\n",
    "    \"\"\"\n",
    "    Draws raw lines on a single frame.\n",
    "    This can be used for debugging issues\n",
    "    \"\"\"\n",
    "    for line in lines:\n",
    "        for x1,y1,x2,y2 in line:\n",
    "              cv2.line(img, (int(x1), y1), (int(x2), y2), color, thickness)\n",
    "\n",
    "def hough_lines(img, rho, theta, threshold, min_line_len, max_line_gap, raw_lines):\n",
    "    \"\"\"\n",
    "    `img` should be the output of a Canny transform.\n",
    "        \n",
    "    Returns an image with hough lines drawn.\n",
    "    \"\"\"  \n",
    "    lines = cv2.HoughLinesP(img, rho, theta, threshold, np.array([]), minLineLength=min_line_len, maxLineGap=max_line_gap)\n",
    "    line_img = np.zeros((img.shape[0], img.shape[1], 3), dtype=np.uint8)\n",
    "    \n",
    "    # Splits up here depending if raw data lines or extrapolated lines should be shown\n",
    "    if raw_lines == 1:\n",
    "        draw_lines_raw(line_img, lines, color=[255, 0, 0], thickness=2)\n",
    "    else:\n",
    "        draw_lines(line_img, lines, color=[255, 0, 0], thickness=10)\n",
    "        \n",
    "    return line_img\n",
    "\n",
    "def weighted_img(img, initial_img, α=0.8, β=1., λ=0.):\n",
    "    \"\"\"\n",
    "    `img` is the output of the hough_lines(), An image with lines drawn on it.\n",
    "    Should be a blank image (all black) with lines drawn on it.\n",
    "    \n",
    "    `initial_img` should be the image before any processing.\n",
    "    \n",
    "    The result image is computed as follows:\n",
    "    \n",
    "    initial_img * α + img * β + λ\n",
    "    NOTE: initial_img and img must be the same shape!\n",
    "    \"\"\"\n",
    "    return cv2.addWeighted(initial_img, α, img, β, λ)\n",
    "\n",
    "def modify_img(img):\n",
    "    \"\"\"\n",
    "    Input: `img` should be a completely unmodified frame\n",
    "    Output: 'final_img' is the annotated frame\n",
    "    \"\"\"\n",
    "    # Create a gray-colored image\n",
    "    gray = grayscale(img)\n",
    "    if printInfos == 1:\n",
    "        #printing out some stats and plotting\n",
    "        print('Converted to gray.')\n",
    "        plt.imshow(gray, cmap='gray')\n",
    "    \n",
    "    # Use a GausssianBlur on the gray image\n",
    "    kernel_size = 5\n",
    "    blur_gray = gaussian_blur(gray, kernel_size)\n",
    "\n",
    "    # Define parameters for Canny and apply\n",
    "    low_threshold = 100\n",
    "    high_threshold = 200\n",
    "    edges = canny(blur_gray, low_threshold, high_threshold)\n",
    "    if printInfos == 1:\n",
    "        #printing out some stats and plotting\n",
    "        print('Canny algorithm.')\n",
    "        plt.imshow(edges, cmap='gray')\n",
    "        \n",
    "    # Apply a region of interest\n",
    "    imshape = img.shape\n",
    "    vertices = np.array([[(imshape[1] / 8,imshape[0]),(imshape[1] / 2.18, imshape[0] / 1.69), (imshape[1] / 1.85, imshape[0] / 1.69), (imshape[1] / 1.091,imshape[0])]], dtype=np.int32)\n",
    "    masked_edges = region_of_interest(edges, vertices)\n",
    "    if printInfos == 1:\n",
    "        #printing out some stats and plotting\n",
    "        print('region of interest.')\n",
    "        plt.imshow(masked_edges, cmap='gray')\n",
    "        \n",
    "    # Define the Hough transform parameters\n",
    "    rho = 1 # distance resolution in pixels of the Hough grid\n",
    "    theta = np.pi/180 # angular resolution in radians of the Hough grid\n",
    "    threshold = 15     # minimum number of votes (intersections in Hough grid cell)\n",
    "    min_line_length = 20 #minimum number of pixels making up a line\n",
    "    max_line_gap = 10    # maximum gap in pixels between connectable line segments\n",
    "    \n",
    "    image_lines = hough_lines(masked_edges, rho, theta, threshold, min_line_length, max_line_gap, print_raw)\n",
    "    final_img = weighted_img(image_lines, img, α=0.8, β=1., λ=0.)\n",
    "    \n",
    "    return final_img\n",
    "\n",
    "def mask_color_hsv(img):\n",
    "    \"\"\"\n",
    "    Applies an image mask in hsv color space to filter out yellow and white elements.\n",
    "    \n",
    "    IMPORTANT: Not used at the moment. Perhaps useful for further improvements.\n",
    "    \"\"\"\n",
    "    lower_range_yellow = np.array([20,100,100], dtype=np.uint8)\n",
    "    upper_range_yellow = np.array([30, 255, 255], dtype=np.uint8)\n",
    "    lower_range_white = np.array([0,0,100], dtype=np.uint8)\n",
    "    upper_range_white = np.array([0, 0, 255], dtype=np.uint8)\n",
    "\n",
    "    hsv = cv2.cvtColor(img, cv2.COLOR_BGR2HSV)\n",
    "    mask_yellow = cv2.inRange(hsv, lower_range_yellow, upper_range_yellow)\n",
    "    mask_white = cv2.inRange(hsv, lower_range_white, upper_range_white)\n",
    "\n",
    "    mask = mask_yellow + mask_white\n",
    "\n",
    "    binary_img = cv2.bitwise_and(hsv, hsv, mask=mask)\n",
    "    binary_img = cv2.cvtColor(binary_img, cv2.COLOR_HSV2BGR)\n",
    "    _, binary_img = cv2.threshold(binary_img, 127, 255, cv2.THRESH_BINARY)\n",
    "\n",
    "    return binary_img\n",
    "    \n",
    "if modify_pictures_in_folder == 1:\n",
    "    filelist = os.listdir(\"test_images/\")\n",
    "\n",
    "    for filename in filelist:\n",
    "        path = 'test_images/' + filename\n",
    "        if path.find(\"/.\") <= 0 and path.find(\"_modified.jpg\") <= 0: # Don't do it for config-files and still modfied files\n",
    "            #reading in an image\n",
    "            image = mpimg.imread(path)\n",
    "            pathsave = path.replace(\".jpg\",\"\") + \"_modified.jpg\"\n",
    "            #print(pathsave)\n",
    "            finalimage = modify_img(image)\n",
    "            #plt.imshow(finalimage)\n",
    "            mpimg.imsave(pathsave, finalimage)\n",
    "    "
   ]
  },
  {
   "cell_type": "markdown",
   "metadata": {
    "deletable": true,
    "editable": true
   },
   "source": [
    "## Test on Videos\n",
    "\n",
    "You know what's cooler than drawing lanes over images? Drawing lanes over video!\n",
    "\n",
    "We can test our solution on two provided videos:\n",
    "\n",
    "`solidWhiteRight.mp4`\n",
    "\n",
    "`solidYellowLeft.mp4`"
   ]
  },
  {
   "cell_type": "code",
   "execution_count": 15,
   "metadata": {
    "collapsed": false,
    "deletable": true,
    "editable": true
   },
   "outputs": [],
   "source": [
    "# Import everything needed to edit/save/watch video clips\n",
    "import moviepy\n",
    "from moviepy.editor import VideoFileClip\n",
    "from IPython.display import HTML"
   ]
  },
  {
   "cell_type": "code",
   "execution_count": 16,
   "metadata": {
    "collapsed": true,
    "deletable": true,
    "editable": true
   },
   "outputs": [],
   "source": [
    "def process_image(image):\n",
    "    # NOTE: The output you return should be a color image (3 channel) for processing video below\n",
    "    # TODO: put your pipeline here,\n",
    "    # you should return the final output (image with lines are drawn on lanes)\n",
    "    \n",
    "    result = modify_img(image)\n",
    "\n",
    "    return result"
   ]
  },
  {
   "cell_type": "markdown",
   "metadata": {
    "deletable": true,
    "editable": true
   },
   "source": [
    "Let's try the one with the solid white lane on the right first ..."
   ]
  },
  {
   "cell_type": "code",
   "execution_count": 17,
   "metadata": {
    "collapsed": false,
    "deletable": true,
    "editable": true
   },
   "outputs": [
    {
     "name": "stdout",
     "output_type": "stream",
     "text": [
      "[MoviePy] >>>> Building video white.mp4\n",
      "[MoviePy] Writing video white.mp4\n"
     ]
    },
    {
     "name": "stderr",
     "output_type": "stream",
     "text": [
      "100%|█████████▉| 221/222 [00:18<00:00, 14.84it/s]\n"
     ]
    },
    {
     "name": "stdout",
     "output_type": "stream",
     "text": [
      "[MoviePy] Done.\n",
      "[MoviePy] >>>> Video ready: white.mp4 \n",
      "\n",
      "CPU times: user 3.94 s, sys: 1.49 s, total: 5.43 s\n",
      "Wall time: 21.2 s\n"
     ]
    }
   ],
   "source": [
    "white_output = 'white.mp4'\n",
    "clip1 = VideoFileClip(\"solidWhiteRight.mp4\")\n",
    "white_clip = clip1.fl_image(process_image) #NOTE: this function expects color images!!\n",
    "%time white_clip.write_videofile(white_output, audio=False)"
   ]
  },
  {
   "cell_type": "markdown",
   "metadata": {
    "deletable": true,
    "editable": true
   },
   "source": [
    "Play the video inline, or if you prefer find the video in your filesystem (should be in the same directory) and play it in your video player of choice."
   ]
  },
  {
   "cell_type": "code",
   "execution_count": 18,
   "metadata": {
    "collapsed": false,
    "deletable": true,
    "editable": true
   },
   "outputs": [
    {
     "data": {
      "text/html": [
       "\n",
       "<video width=\"960\" height=\"540\" controls>\n",
       "  <source src=\"white.mp4\">\n",
       "</video>\n"
      ],
      "text/plain": [
       "<IPython.core.display.HTML object>"
      ]
     },
     "execution_count": 18,
     "metadata": {},
     "output_type": "execute_result"
    }
   ],
   "source": [
    "HTML(\"\"\"\n",
    "<video width=\"960\" height=\"540\" controls>\n",
    "  <source src=\"{0}\">\n",
    "</video>\n",
    "\"\"\".format(white_output))"
   ]
  },
  {
   "cell_type": "markdown",
   "metadata": {
    "deletable": true,
    "editable": true
   },
   "source": [
    "**At this point, if you were successful you probably have the Hough line segments drawn onto the road, but what about identifying the full extent of the lane and marking it clearly as in the example video (P1_example.mp4)?  Think about defining a line to run the full length of the visible lane based on the line segments you identified with the Hough Transform.  Modify your draw_lines function accordingly and try re-running your pipeline.**"
   ]
  },
  {
   "cell_type": "markdown",
   "metadata": {
    "deletable": true,
    "editable": true
   },
   "source": [
    "Now for the one with the solid yellow lane on the left. This one's more tricky!"
   ]
  },
  {
   "cell_type": "code",
   "execution_count": 19,
   "metadata": {
    "collapsed": false,
    "deletable": true,
    "editable": true
   },
   "outputs": [
    {
     "name": "stdout",
     "output_type": "stream",
     "text": [
      "[MoviePy] >>>> Building video yellow.mp4\n",
      "[MoviePy] Writing video yellow.mp4\n"
     ]
    },
    {
     "name": "stderr",
     "output_type": "stream",
     "text": [
      "100%|█████████▉| 681/682 [00:59<00:00, 11.52it/s]\n"
     ]
    },
    {
     "name": "stdout",
     "output_type": "stream",
     "text": [
      "[MoviePy] Done.\n",
      "[MoviePy] >>>> Video ready: yellow.mp4 \n",
      "\n",
      "CPU times: user 12 s, sys: 4.64 s, total: 16.7 s\n",
      "Wall time: 1min\n"
     ]
    }
   ],
   "source": [
    "yellow_output = 'yellow.mp4'\n",
    "clip2 = VideoFileClip('solidYellowLeft.mp4')\n",
    "yellow_clip = clip2.fl_image(process_image)\n",
    "%time yellow_clip.write_videofile(yellow_output, audio=False)"
   ]
  },
  {
   "cell_type": "code",
   "execution_count": 20,
   "metadata": {
    "collapsed": false,
    "deletable": true,
    "editable": true
   },
   "outputs": [
    {
     "data": {
      "text/html": [
       "\n",
       "<video width=\"960\" height=\"540\" controls>\n",
       "  <source src=\"yellow.mp4\">\n",
       "</video>\n"
      ],
      "text/plain": [
       "<IPython.core.display.HTML object>"
      ]
     },
     "execution_count": 20,
     "metadata": {},
     "output_type": "execute_result"
    }
   ],
   "source": [
    "HTML(\"\"\"\n",
    "<video width=\"960\" height=\"540\" controls>\n",
    "  <source src=\"{0}\">\n",
    "</video>\n",
    "\"\"\".format(yellow_output))"
   ]
  },
  {
   "cell_type": "markdown",
   "metadata": {
    "deletable": true,
    "editable": true
   },
   "source": [
    "## Reflections\n",
    "\n",
    "Congratulations on finding the lane lines!  As the final step in this project, we would like you to share your thoughts on your lane finding pipeline... specifically, how could you imagine making your algorithm better / more robust?  Where will your current algorithm be likely to fail?\n",
    "\n",
    "Please add your thoughts below,  and if you're up for making your pipeline more robust, be sure to scroll down and check out the optional challenge video below!\n",
    "\n",
    "* My line detection software:\n",
    " * The written programm can produce annotated pictures (in the test_images folder) and annoted videos. It is working   quite well for the two mandatory videos and for the addtional challenge video too. Anyway it's not perfect. There are still some improvments for further work.\n",
    "\n",
    " * The programm can be configured if there shall be additional debug output, if the test pictures in the specific folder shall be annoted and finally if the raw hough lines shall be shown or the extrapolated lines. To do this, please modify the parameters in the configuration area at the beginning of the code.\n",
    "\n",
    "\n",
    "* The pipeline itself:\n",
    " * Convert the picture (frame) into a gray colored one. At this step a first filter is used bei only showing regions  in the range between 196 and 255.\n",
    " * Use a Gausssian-Blur on the gray image with kernel-size 5 (because this has shown the best results)\n",
    " * Apply the Canny-algorithm with a low-threshold of 100 and a high-threshold of 200\n",
    " * Apply a region of interest to mask out everything what is outside of the actual used driving lane. The size of the region is automatically adjusted to the size of the picture (frame)\n",
    " * Do a hough transformation with the following parameters: rho = 1, theta = np.pi/180, threshold = 15,    min_line_length = 20 and max_line_gap = 10\n",
    " * Create a weighted image (frame) with the following parameters: α=0.8, β=1. and λ=0.\n",
    " * Final image (frame) available\n",
    " \n",
    "* Optimizations that have been implemented\n",
    " * First filter directly on the gray-scaled image\n",
    " * Minimization of fluttering by averaging between two frames\n",
    " * Filtering out of horizontal lines through boundaries of the slopes (between +/-0.8 and +/-0.4)\n",
    " * Starting values for x/y-values depending on framesize\n",
    " * Region of interest depending on framesize\n",
    " \n",
    "* Shortcomings\n",
    " * Annotated lines are still fluttering especially when the road is gray (in different shades)\n",
    " \n",
    "* Further improvements\n",
    " * Use transformation into HSV-Color-Space and apply filtering for yellow and white segments. This was working quite well for yellow lines, but not for white (light-gray) ones.\n",
    " * Optimize the parameters all over the pipeline\n",
    " * Check the solutions with further training/test data.\n",
    " * Do not directly use global variables for connecting the data from two frames, because this is not a good programming style (write access form inside a function).\n",
    " \n",
    "Thats all. The project was really fun. I am looking forward to the next ones.\n"
   ]
  },
  {
   "cell_type": "markdown",
   "metadata": {
    "deletable": true,
    "editable": true
   },
   "source": [
    "## Submission\n",
    "\n",
    "If you're satisfied with your video outputs it's time to submit!  Submit this ipython notebook for review.\n"
   ]
  },
  {
   "cell_type": "markdown",
   "metadata": {
    "collapsed": true,
    "deletable": true,
    "editable": true
   },
   "source": [
    "## Optional Challenge\n",
    "\n",
    "Try your lane finding pipeline on the video below.  Does it still work?  Can you figure out a way to make it more robust?  If you're up for the challenge, modify your pipeline so it works with this video and submit it along with the rest of your project!"
   ]
  },
  {
   "cell_type": "code",
   "execution_count": 21,
   "metadata": {
    "collapsed": false,
    "deletable": true,
    "editable": true
   },
   "outputs": [
    {
     "name": "stdout",
     "output_type": "stream",
     "text": [
      "[MoviePy] >>>> Building video extra.mp4\n",
      "[MoviePy] Writing video extra.mp4\n"
     ]
    },
    {
     "name": "stderr",
     "output_type": "stream",
     "text": [
      "100%|██████████| 251/251 [00:45<00:00,  7.04it/s]\n"
     ]
    },
    {
     "name": "stdout",
     "output_type": "stream",
     "text": [
      "[MoviePy] Done.\n",
      "[MoviePy] >>>> Video ready: extra.mp4 \n",
      "\n",
      "CPU times: user 7.68 s, sys: 3.23 s, total: 10.9 s\n",
      "Wall time: 50.1 s\n"
     ]
    }
   ],
   "source": [
    "challenge_output = 'extra.mp4'\n",
    "clip2 = VideoFileClip('challenge.mp4')\n",
    "challenge_clip = clip2.fl_image(process_image)\n",
    "%time challenge_clip.write_videofile(challenge_output, audio=False)"
   ]
  },
  {
   "cell_type": "code",
   "execution_count": 22,
   "metadata": {
    "collapsed": false,
    "deletable": true,
    "editable": true
   },
   "outputs": [
    {
     "data": {
      "text/html": [
       "\n",
       "<video width=\"960\" height=\"540\" controls>\n",
       "  <source src=\"extra.mp4\">\n",
       "</video>\n"
      ],
      "text/plain": [
       "<IPython.core.display.HTML object>"
      ]
     },
     "execution_count": 22,
     "metadata": {},
     "output_type": "execute_result"
    }
   ],
   "source": [
    "HTML(\"\"\"\n",
    "<video width=\"960\" height=\"540\" controls>\n",
    "  <source src=\"{0}\">\n",
    "</video>\n",
    "\"\"\".format(challenge_output))"
   ]
  }
 ],
 "metadata": {
  "anaconda-cloud": {},
  "kernelspec": {
   "display_name": "Python 3",
   "language": "python",
   "name": "python3"
  },
  "language_info": {
   "codemirror_mode": {
    "name": "ipython",
    "version": 3
   },
   "file_extension": ".py",
   "mimetype": "text/x-python",
   "name": "python",
   "nbconvert_exporter": "python",
   "pygments_lexer": "ipython3",
   "version": "3.5.2"
  },
  "widgets": {
   "state": {},
   "version": "1.1.2"
  }
 },
 "nbformat": 4,
 "nbformat_minor": 0
}
